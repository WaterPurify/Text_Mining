{
  "nbformat": 4,
  "nbformat_minor": 0,
  "metadata": {
    "colab": {
      "provenance": [],
      "authorship_tag": "ABX9TyOoh1wuM2ddBr2LkP2PA+Uj",
      "include_colab_link": true
    },
    "kernelspec": {
      "name": "python3",
      "display_name": "Python 3"
    },
    "language_info": {
      "name": "python"
    }
  },
  "cells": [
    {
      "cell_type": "markdown",
      "metadata": {
        "id": "view-in-github",
        "colab_type": "text"
      },
      "source": [
        "<a href=\"https://colab.research.google.com/github/WaterPurify/Text_Mining/blob/main/Group_Project/Hotel_review.ipynb\" target=\"_parent\"><img src=\"https://colab.research.google.com/assets/colab-badge.svg\" alt=\"Open In Colab\"/></a>"
      ]
    },
    {
      "cell_type": "code",
      "source": [
        "import pandas as pd"
      ],
      "metadata": {
        "id": "ltvSp255uhPA"
      },
      "execution_count": 3,
      "outputs": []
    },
    {
      "cell_type": "code",
      "execution_count": 4,
      "metadata": {
        "colab": {
          "base_uri": "https://localhost:8080/",
          "height": 981
        },
        "id": "EKB6A33juXRG",
        "outputId": "2b1aca04-584a-4459-d4f5-25eadb87412c"
      },
      "outputs": [
        {
          "output_type": "execute_result",
          "data": {
            "text/plain": [
              "                                         review_content  \\\n",
              "0     Is it necessary to write a review for this hot...   \n",
              "1     As expected, Shilla is Shilla!! Adding the eve...   \n",
              "2     Exellent Location & Service”\\nWe stayed at Shi...   \n",
              "3     \"I can understand why many people are looking ...   \n",
              "4     완벽산 신라호텔 경험”\\n가든뷰에 17개월 아기와 함께 묵었습니다. 비록 저녁에 윗...   \n",
              "...                                                 ...   \n",
              "2595  A very nice resort”\\nMake you feel great once ...   \n",
              "2596  The hotel rooms update is way over due.”\\nThe ...   \n",
              "2597  Hotel with great children facilities”\\nThis ho...   \n",
              "2598  Perfect Hotel for Relaxing”\\nThe hotel offers ...   \n",
              "2599  Would definitely go there again”\\nOne of my fa...   \n",
              "\n",
              "                              date_text               reviewer_country  \\\n",
              "0      Stayed 2 nights in November 2023          Yumi from South Korea   \n",
              "1       Stayed 1 night in November 2023           Seo from South Korea   \n",
              "2       Stayed 3 nights in October 2023         Aya from United States   \n",
              "3       Stayed 2 nights in October 2023          sang from South Korea   \n",
              "4      Stayed 1 night in September 2023      SEUNGJIN from South Korea   \n",
              "...                                 ...                            ...   \n",
              "2595    Stayed 2 nights in October 2016  wai from Hong Kong SAR, China   \n",
              "2596    Stayed 5 nights in October 2016       David from United States   \n",
              "2597       Stayed 3 nights in June 2016            Chye from Singapore   \n",
              "2598  Stayed 2 nights in September 2016         suryati from Indonesia   \n",
              "2599       Stayed 2 nights in June 2016           JIN from South Korea   \n",
              "\n",
              "                          room_type  review_score                       group  \n",
              "0          Standard Double Mountain          10.0               Solo traveler  \n",
              "1            Deluxe Double Mountain          10.0                      Couple  \n",
              "2            Deluxe Double Mountain          10.0                      Couple  \n",
              "3            Standard Twin Mountain          10.0                      Couple  \n",
              "4     Premier Terrace Double Garden          10.0  Family with young children  \n",
              "...                             ...           ...                         ...  \n",
              "2595                            NaN           9.2           Family with teens  \n",
              "2596                            NaN           6.4           Family with teens  \n",
              "2597                            NaN           9.2  Family with young children  \n",
              "2598                            NaN           9.2                       Group  \n",
              "2599                            NaN          10.0  Family with young children  \n",
              "\n",
              "[2600 rows x 6 columns]"
            ],
            "text/html": [
              "\n",
              "  <div id=\"df-299db64e-18d6-4f5e-baf0-ebae58c54922\" class=\"colab-df-container\">\n",
              "    <div>\n",
              "<style scoped>\n",
              "    .dataframe tbody tr th:only-of-type {\n",
              "        vertical-align: middle;\n",
              "    }\n",
              "\n",
              "    .dataframe tbody tr th {\n",
              "        vertical-align: top;\n",
              "    }\n",
              "\n",
              "    .dataframe thead th {\n",
              "        text-align: right;\n",
              "    }\n",
              "</style>\n",
              "<table border=\"1\" class=\"dataframe\">\n",
              "  <thead>\n",
              "    <tr style=\"text-align: right;\">\n",
              "      <th></th>\n",
              "      <th>review_content</th>\n",
              "      <th>date_text</th>\n",
              "      <th>reviewer_country</th>\n",
              "      <th>room_type</th>\n",
              "      <th>review_score</th>\n",
              "      <th>group</th>\n",
              "    </tr>\n",
              "  </thead>\n",
              "  <tbody>\n",
              "    <tr>\n",
              "      <th>0</th>\n",
              "      <td>Is it necessary to write a review for this hot...</td>\n",
              "      <td>Stayed 2 nights in November 2023</td>\n",
              "      <td>Yumi from South Korea</td>\n",
              "      <td>Standard Double Mountain</td>\n",
              "      <td>10.0</td>\n",
              "      <td>Solo traveler</td>\n",
              "    </tr>\n",
              "    <tr>\n",
              "      <th>1</th>\n",
              "      <td>As expected, Shilla is Shilla!! Adding the eve...</td>\n",
              "      <td>Stayed 1 night in November 2023</td>\n",
              "      <td>Seo from South Korea</td>\n",
              "      <td>Deluxe Double Mountain</td>\n",
              "      <td>10.0</td>\n",
              "      <td>Couple</td>\n",
              "    </tr>\n",
              "    <tr>\n",
              "      <th>2</th>\n",
              "      <td>Exellent Location &amp; Service”\\nWe stayed at Shi...</td>\n",
              "      <td>Stayed 3 nights in October 2023</td>\n",
              "      <td>Aya from United States</td>\n",
              "      <td>Deluxe Double Mountain</td>\n",
              "      <td>10.0</td>\n",
              "      <td>Couple</td>\n",
              "    </tr>\n",
              "    <tr>\n",
              "      <th>3</th>\n",
              "      <td>\"I can understand why many people are looking ...</td>\n",
              "      <td>Stayed 2 nights in October 2023</td>\n",
              "      <td>sang from South Korea</td>\n",
              "      <td>Standard Twin Mountain</td>\n",
              "      <td>10.0</td>\n",
              "      <td>Couple</td>\n",
              "    </tr>\n",
              "    <tr>\n",
              "      <th>4</th>\n",
              "      <td>완벽산 신라호텔 경험”\\n가든뷰에 17개월 아기와 함께 묵었습니다. 비록 저녁에 윗...</td>\n",
              "      <td>Stayed 1 night in September 2023</td>\n",
              "      <td>SEUNGJIN from South Korea</td>\n",
              "      <td>Premier Terrace Double Garden</td>\n",
              "      <td>10.0</td>\n",
              "      <td>Family with young children</td>\n",
              "    </tr>\n",
              "    <tr>\n",
              "      <th>...</th>\n",
              "      <td>...</td>\n",
              "      <td>...</td>\n",
              "      <td>...</td>\n",
              "      <td>...</td>\n",
              "      <td>...</td>\n",
              "      <td>...</td>\n",
              "    </tr>\n",
              "    <tr>\n",
              "      <th>2595</th>\n",
              "      <td>A very nice resort”\\nMake you feel great once ...</td>\n",
              "      <td>Stayed 2 nights in October 2016</td>\n",
              "      <td>wai from Hong Kong SAR, China</td>\n",
              "      <td>NaN</td>\n",
              "      <td>9.2</td>\n",
              "      <td>Family with teens</td>\n",
              "    </tr>\n",
              "    <tr>\n",
              "      <th>2596</th>\n",
              "      <td>The hotel rooms update is way over due.”\\nThe ...</td>\n",
              "      <td>Stayed 5 nights in October 2016</td>\n",
              "      <td>David from United States</td>\n",
              "      <td>NaN</td>\n",
              "      <td>6.4</td>\n",
              "      <td>Family with teens</td>\n",
              "    </tr>\n",
              "    <tr>\n",
              "      <th>2597</th>\n",
              "      <td>Hotel with great children facilities”\\nThis ho...</td>\n",
              "      <td>Stayed 3 nights in June 2016</td>\n",
              "      <td>Chye from Singapore</td>\n",
              "      <td>NaN</td>\n",
              "      <td>9.2</td>\n",
              "      <td>Family with young children</td>\n",
              "    </tr>\n",
              "    <tr>\n",
              "      <th>2598</th>\n",
              "      <td>Perfect Hotel for Relaxing”\\nThe hotel offers ...</td>\n",
              "      <td>Stayed 2 nights in September 2016</td>\n",
              "      <td>suryati from Indonesia</td>\n",
              "      <td>NaN</td>\n",
              "      <td>9.2</td>\n",
              "      <td>Group</td>\n",
              "    </tr>\n",
              "    <tr>\n",
              "      <th>2599</th>\n",
              "      <td>Would definitely go there again”\\nOne of my fa...</td>\n",
              "      <td>Stayed 2 nights in June 2016</td>\n",
              "      <td>JIN from South Korea</td>\n",
              "      <td>NaN</td>\n",
              "      <td>10.0</td>\n",
              "      <td>Family with young children</td>\n",
              "    </tr>\n",
              "  </tbody>\n",
              "</table>\n",
              "<p>2600 rows × 6 columns</p>\n",
              "</div>\n",
              "    <div class=\"colab-df-buttons\">\n",
              "\n",
              "  <div class=\"colab-df-container\">\n",
              "    <button class=\"colab-df-convert\" onclick=\"convertToInteractive('df-299db64e-18d6-4f5e-baf0-ebae58c54922')\"\n",
              "            title=\"Convert this dataframe to an interactive table.\"\n",
              "            style=\"display:none;\">\n",
              "\n",
              "  <svg xmlns=\"http://www.w3.org/2000/svg\" height=\"24px\" viewBox=\"0 -960 960 960\">\n",
              "    <path d=\"M120-120v-720h720v720H120Zm60-500h600v-160H180v160Zm220 220h160v-160H400v160Zm0 220h160v-160H400v160ZM180-400h160v-160H180v160Zm440 0h160v-160H620v160ZM180-180h160v-160H180v160Zm440 0h160v-160H620v160Z\"/>\n",
              "  </svg>\n",
              "    </button>\n",
              "\n",
              "  <style>\n",
              "    .colab-df-container {\n",
              "      display:flex;\n",
              "      gap: 12px;\n",
              "    }\n",
              "\n",
              "    .colab-df-convert {\n",
              "      background-color: #E8F0FE;\n",
              "      border: none;\n",
              "      border-radius: 50%;\n",
              "      cursor: pointer;\n",
              "      display: none;\n",
              "      fill: #1967D2;\n",
              "      height: 32px;\n",
              "      padding: 0 0 0 0;\n",
              "      width: 32px;\n",
              "    }\n",
              "\n",
              "    .colab-df-convert:hover {\n",
              "      background-color: #E2EBFA;\n",
              "      box-shadow: 0px 1px 2px rgba(60, 64, 67, 0.3), 0px 1px 3px 1px rgba(60, 64, 67, 0.15);\n",
              "      fill: #174EA6;\n",
              "    }\n",
              "\n",
              "    .colab-df-buttons div {\n",
              "      margin-bottom: 4px;\n",
              "    }\n",
              "\n",
              "    [theme=dark] .colab-df-convert {\n",
              "      background-color: #3B4455;\n",
              "      fill: #D2E3FC;\n",
              "    }\n",
              "\n",
              "    [theme=dark] .colab-df-convert:hover {\n",
              "      background-color: #434B5C;\n",
              "      box-shadow: 0px 1px 3px 1px rgba(0, 0, 0, 0.15);\n",
              "      filter: drop-shadow(0px 1px 2px rgba(0, 0, 0, 0.3));\n",
              "      fill: #FFFFFF;\n",
              "    }\n",
              "  </style>\n",
              "\n",
              "    <script>\n",
              "      const buttonEl =\n",
              "        document.querySelector('#df-299db64e-18d6-4f5e-baf0-ebae58c54922 button.colab-df-convert');\n",
              "      buttonEl.style.display =\n",
              "        google.colab.kernel.accessAllowed ? 'block' : 'none';\n",
              "\n",
              "      async function convertToInteractive(key) {\n",
              "        const element = document.querySelector('#df-299db64e-18d6-4f5e-baf0-ebae58c54922');\n",
              "        const dataTable =\n",
              "          await google.colab.kernel.invokeFunction('convertToInteractive',\n",
              "                                                    [key], {});\n",
              "        if (!dataTable) return;\n",
              "\n",
              "        const docLinkHtml = 'Like what you see? Visit the ' +\n",
              "          '<a target=\"_blank\" href=https://colab.research.google.com/notebooks/data_table.ipynb>data table notebook</a>'\n",
              "          + ' to learn more about interactive tables.';\n",
              "        element.innerHTML = '';\n",
              "        dataTable['output_type'] = 'display_data';\n",
              "        await google.colab.output.renderOutput(dataTable, element);\n",
              "        const docLink = document.createElement('div');\n",
              "        docLink.innerHTML = docLinkHtml;\n",
              "        element.appendChild(docLink);\n",
              "      }\n",
              "    </script>\n",
              "  </div>\n",
              "\n",
              "\n",
              "<div id=\"df-505d860f-4993-41ce-ad01-c46d3920bae9\">\n",
              "  <button class=\"colab-df-quickchart\" onclick=\"quickchart('df-505d860f-4993-41ce-ad01-c46d3920bae9')\"\n",
              "            title=\"Suggest charts\"\n",
              "            style=\"display:none;\">\n",
              "\n",
              "<svg xmlns=\"http://www.w3.org/2000/svg\" height=\"24px\"viewBox=\"0 0 24 24\"\n",
              "     width=\"24px\">\n",
              "    <g>\n",
              "        <path d=\"M19 3H5c-1.1 0-2 .9-2 2v14c0 1.1.9 2 2 2h14c1.1 0 2-.9 2-2V5c0-1.1-.9-2-2-2zM9 17H7v-7h2v7zm4 0h-2V7h2v10zm4 0h-2v-4h2v4z\"/>\n",
              "    </g>\n",
              "</svg>\n",
              "  </button>\n",
              "\n",
              "<style>\n",
              "  .colab-df-quickchart {\n",
              "      --bg-color: #E8F0FE;\n",
              "      --fill-color: #1967D2;\n",
              "      --hover-bg-color: #E2EBFA;\n",
              "      --hover-fill-color: #174EA6;\n",
              "      --disabled-fill-color: #AAA;\n",
              "      --disabled-bg-color: #DDD;\n",
              "  }\n",
              "\n",
              "  [theme=dark] .colab-df-quickchart {\n",
              "      --bg-color: #3B4455;\n",
              "      --fill-color: #D2E3FC;\n",
              "      --hover-bg-color: #434B5C;\n",
              "      --hover-fill-color: #FFFFFF;\n",
              "      --disabled-bg-color: #3B4455;\n",
              "      --disabled-fill-color: #666;\n",
              "  }\n",
              "\n",
              "  .colab-df-quickchart {\n",
              "    background-color: var(--bg-color);\n",
              "    border: none;\n",
              "    border-radius: 50%;\n",
              "    cursor: pointer;\n",
              "    display: none;\n",
              "    fill: var(--fill-color);\n",
              "    height: 32px;\n",
              "    padding: 0;\n",
              "    width: 32px;\n",
              "  }\n",
              "\n",
              "  .colab-df-quickchart:hover {\n",
              "    background-color: var(--hover-bg-color);\n",
              "    box-shadow: 0 1px 2px rgba(60, 64, 67, 0.3), 0 1px 3px 1px rgba(60, 64, 67, 0.15);\n",
              "    fill: var(--button-hover-fill-color);\n",
              "  }\n",
              "\n",
              "  .colab-df-quickchart-complete:disabled,\n",
              "  .colab-df-quickchart-complete:disabled:hover {\n",
              "    background-color: var(--disabled-bg-color);\n",
              "    fill: var(--disabled-fill-color);\n",
              "    box-shadow: none;\n",
              "  }\n",
              "\n",
              "  .colab-df-spinner {\n",
              "    border: 2px solid var(--fill-color);\n",
              "    border-color: transparent;\n",
              "    border-bottom-color: var(--fill-color);\n",
              "    animation:\n",
              "      spin 1s steps(1) infinite;\n",
              "  }\n",
              "\n",
              "  @keyframes spin {\n",
              "    0% {\n",
              "      border-color: transparent;\n",
              "      border-bottom-color: var(--fill-color);\n",
              "      border-left-color: var(--fill-color);\n",
              "    }\n",
              "    20% {\n",
              "      border-color: transparent;\n",
              "      border-left-color: var(--fill-color);\n",
              "      border-top-color: var(--fill-color);\n",
              "    }\n",
              "    30% {\n",
              "      border-color: transparent;\n",
              "      border-left-color: var(--fill-color);\n",
              "      border-top-color: var(--fill-color);\n",
              "      border-right-color: var(--fill-color);\n",
              "    }\n",
              "    40% {\n",
              "      border-color: transparent;\n",
              "      border-right-color: var(--fill-color);\n",
              "      border-top-color: var(--fill-color);\n",
              "    }\n",
              "    60% {\n",
              "      border-color: transparent;\n",
              "      border-right-color: var(--fill-color);\n",
              "    }\n",
              "    80% {\n",
              "      border-color: transparent;\n",
              "      border-right-color: var(--fill-color);\n",
              "      border-bottom-color: var(--fill-color);\n",
              "    }\n",
              "    90% {\n",
              "      border-color: transparent;\n",
              "      border-bottom-color: var(--fill-color);\n",
              "    }\n",
              "  }\n",
              "</style>\n",
              "\n",
              "  <script>\n",
              "    async function quickchart(key) {\n",
              "      const quickchartButtonEl =\n",
              "        document.querySelector('#' + key + ' button');\n",
              "      quickchartButtonEl.disabled = true;  // To prevent multiple clicks.\n",
              "      quickchartButtonEl.classList.add('colab-df-spinner');\n",
              "      try {\n",
              "        const charts = await google.colab.kernel.invokeFunction(\n",
              "            'suggestCharts', [key], {});\n",
              "      } catch (error) {\n",
              "        console.error('Error during call to suggestCharts:', error);\n",
              "      }\n",
              "      quickchartButtonEl.classList.remove('colab-df-spinner');\n",
              "      quickchartButtonEl.classList.add('colab-df-quickchart-complete');\n",
              "    }\n",
              "    (() => {\n",
              "      let quickchartButtonEl =\n",
              "        document.querySelector('#df-505d860f-4993-41ce-ad01-c46d3920bae9 button');\n",
              "      quickchartButtonEl.style.display =\n",
              "        google.colab.kernel.accessAllowed ? 'block' : 'none';\n",
              "    })();\n",
              "  </script>\n",
              "</div>\n",
              "\n",
              "  <div id=\"id_0f21f88e-1c6c-49bd-a7d4-c5799c2669d2\">\n",
              "    <style>\n",
              "      .colab-df-generate {\n",
              "        background-color: #E8F0FE;\n",
              "        border: none;\n",
              "        border-radius: 50%;\n",
              "        cursor: pointer;\n",
              "        display: none;\n",
              "        fill: #1967D2;\n",
              "        height: 32px;\n",
              "        padding: 0 0 0 0;\n",
              "        width: 32px;\n",
              "      }\n",
              "\n",
              "      .colab-df-generate:hover {\n",
              "        background-color: #E2EBFA;\n",
              "        box-shadow: 0px 1px 2px rgba(60, 64, 67, 0.3), 0px 1px 3px 1px rgba(60, 64, 67, 0.15);\n",
              "        fill: #174EA6;\n",
              "      }\n",
              "\n",
              "      [theme=dark] .colab-df-generate {\n",
              "        background-color: #3B4455;\n",
              "        fill: #D2E3FC;\n",
              "      }\n",
              "\n",
              "      [theme=dark] .colab-df-generate:hover {\n",
              "        background-color: #434B5C;\n",
              "        box-shadow: 0px 1px 3px 1px rgba(0, 0, 0, 0.15);\n",
              "        filter: drop-shadow(0px 1px 2px rgba(0, 0, 0, 0.3));\n",
              "        fill: #FFFFFF;\n",
              "      }\n",
              "    </style>\n",
              "    <button class=\"colab-df-generate\" onclick=\"generateWithVariable('df')\"\n",
              "            title=\"Generate code using this dataframe.\"\n",
              "            style=\"display:none;\">\n",
              "\n",
              "  <svg xmlns=\"http://www.w3.org/2000/svg\" height=\"24px\"viewBox=\"0 0 24 24\"\n",
              "       width=\"24px\">\n",
              "    <path d=\"M7,19H8.4L18.45,9,17,7.55,7,17.6ZM5,21V16.75L18.45,3.32a2,2,0,0,1,2.83,0l1.4,1.43a1.91,1.91,0,0,1,.58,1.4,1.91,1.91,0,0,1-.58,1.4L9.25,21ZM18.45,9,17,7.55Zm-12,3A5.31,5.31,0,0,0,4.9,8.1,5.31,5.31,0,0,0,1,6.5,5.31,5.31,0,0,0,4.9,4.9,5.31,5.31,0,0,0,6.5,1,5.31,5.31,0,0,0,8.1,4.9,5.31,5.31,0,0,0,12,6.5,5.46,5.46,0,0,0,6.5,12Z\"/>\n",
              "  </svg>\n",
              "    </button>\n",
              "    <script>\n",
              "      (() => {\n",
              "      const buttonEl =\n",
              "        document.querySelector('#id_0f21f88e-1c6c-49bd-a7d4-c5799c2669d2 button.colab-df-generate');\n",
              "      buttonEl.style.display =\n",
              "        google.colab.kernel.accessAllowed ? 'block' : 'none';\n",
              "\n",
              "      buttonEl.onclick = () => {\n",
              "        google.colab.notebook.generateWithVariable('df');\n",
              "      }\n",
              "      })();\n",
              "    </script>\n",
              "  </div>\n",
              "\n",
              "    </div>\n",
              "  </div>\n"
            ],
            "application/vnd.google.colaboratory.intrinsic+json": {
              "type": "dataframe",
              "variable_name": "df",
              "summary": "{\n  \"name\": \"df\",\n  \"rows\": 2600,\n  \"fields\": [\n    {\n      \"column\": \"review_content\",\n      \"properties\": {\n        \"dtype\": \"category\",\n        \"num_unique_values\": 134,\n        \"samples\": [\n          \"\\u671f\\u5f85\\u306f\\u305a\\u308c\\u201d\\n\\u8001\\u8217\\u306a\\u308a\\u306e\\u7d20\\u6575\\u3055\\u306f\\u3042\\u308b\\u3051\\u3069\\u3001\\u5efa\\u7269\\u81ea\\u4f53\\u304c\\u53e4\\u3044\\u3057\\u90e8\\u5c4b\\u306e\\u4f5c\\u308a\\u304c\\u3071\\u3063\\u3068\\u3057\\u306a\\u3044\\u3002 \\u5929\\u5019\\u60aa\\u304f\\u30d7\\u30fc\\u30eb\\u306f\\u5229\\u7528\\u3057\\u306a\\u304b\\u3063\\u305f\\u304c\\u3001\\u30d1\\u30f3\\u30d5\\u30ec\\u30c3\\u30c8\\u3092\\u898b\\u308b\\u304b\\u304e\\u308a\\u8272\\u3005\\u306a\\u3082\\u306e\\u306b\\u3044\\u3061\\u3044\\u3061\\u6599\\u91d1\\u304c\\u304b\\u304b\\u308b\\u3002 \\u4f75\\u8a2d\\u306e\\u30b5\\u30a6\\u30ca\\u3067\\u3059\\u3089\\u8ffd\\u52a0\\u6599\\u91d1\\u3082\\u5fc5\\u8981\\u3002 \\u5c0f\\u3055\\u3044\\u5b50\\u4f9b\\u9023\\u308c\\u306e\\u97d3\\u56fd\\u30d5\\u30a1\\u30df\\u30ea\\u30fc\\u304c\\u307b\\u3068\\u3093\\u3069\\u3067\\u3001\\u304c\\u3061\\u3083\\u304c\\u3061\\u3083\\u3057\\u305f\\u96f0\\u56f2\\u6c17\\u306f\\u5426\\u3081\\u306a\\u3044\\u3002 \\u671d\\u98df\\u306f\\u7a2e\\u985e\\u304c\\u591a\\u304f\\u826f\\u304b\\u3063\\u305f\\u3002 \\u30a2\\u30ef\\u30d3\\u5165\\u308a\\u306e\\u304a\\u7ca5\\u3084\\u30c1\\u30e3\\u30d7\\u30c1\\u30a7\\u7b49\\u3001\\u30b7\\u30fc\\u30d5\\u30fc\\u30c9\\u7cfb\\u306f\\u7f8e\\u5473\\u3057\\u3044\\u3002 \\u30ec\\u30b9\\u30c8\\u30e9\\u30f3\\u306f3\\u3064\\uff0b\\u8efd\\u98df2\\u3064\\u3001\\u671d\\u98df\\u306e\\u30ec\\u30b9\\u30c8\\u30e9\\u30f3\\u306f\\u5915\\u98df\\u6642\\u306f\\u30d3\\u30e5\\u30c3\\u30d5\\u30a7\\u3068\\u30a2\\u30e9\\u30ab\\u30eb\\u30c8\\u304c\\u3042\\u308b\\u304c\\u3001\\u30d3\\u30e5\\u30c3\\u30d5\\u30a7\\u306f\\u5927\\u4eba10900\\u5186\\u307b\\u3069\\u3059\\u308b\\u3002 \\u82f1\\u8a9e\\u304c\\u3042\\u307e\\u308a\\u901a\\u3058\\u306a\\u3044\\u306e\\u3067\\u30b3\\u30df\\u30e5\\u30cb\\u30b1\\u30fc\\u30b7\\u30e7\\u30f3\\u304c\\u3084\\u3084\\u4e0d\\u4fbf\\u3002\",\n          \"Awesome! Satisfying! \\u201d\\nService, facilities, & room condition and bedding\\nI would like to stay at the Shilla Jeju again if I visit Jeju island later. There are some details that could be improved, but still, it is satisfying (as it is now).\",\n          \"Good Location\\u201d\\nThere is free shuttle from the airport, it takes about an hour. Nice view from our room, ocean view, they have good service, staff has good english. it takes about 3 minutes to check in. i\\nNice hotel but a little over priced especially the room service menu, breakfast costs about $40\"\n        ],\n        \"semantic_type\": \"\",\n        \"description\": \"\"\n      }\n    },\n    {\n      \"column\": \"date_text\",\n      \"properties\": {\n        \"dtype\": \"category\",\n        \"num_unique_values\": 96,\n        \"samples\": [\n          \"Stayed 5 nights in October 2012\",\n          \"Stayed 2 nights in October 2012\",\n          \"Stayed 1 night in March 2013\"\n        ],\n        \"semantic_type\": \"\",\n        \"description\": \"\"\n      }\n    },\n    {\n      \"column\": \"reviewer_country\",\n      \"properties\": {\n        \"dtype\": \"category\",\n        \"num_unique_values\": 128,\n        \"samples\": [\n          \"Joseph from United States\",\n          \"Will from United States\",\n          \"Terri from United States\"\n        ],\n        \"semantic_type\": \"\",\n        \"description\": \"\"\n      }\n    },\n    {\n      \"column\": \"room_type\",\n      \"properties\": {\n        \"dtype\": \"category\",\n        \"num_unique_values\": 13,\n        \"samples\": [\n          \"Standard Terrace Double Garden\",\n          \"Standard Twin Mountain for 2 People\",\n          \"Standard Double Mountain\"\n        ],\n        \"semantic_type\": \"\",\n        \"description\": \"\"\n      }\n    },\n    {\n      \"column\": \"review_score\",\n      \"properties\": {\n        \"dtype\": \"number\",\n        \"std\": 1.2998208677874616,\n        \"min\": 3.6,\n        \"max\": 10.0,\n        \"num_unique_values\": 25,\n        \"samples\": [\n          8.4,\n          7.3,\n          10.0\n        ],\n        \"semantic_type\": \"\",\n        \"description\": \"\"\n      }\n    },\n    {\n      \"column\": \"group\",\n      \"properties\": {\n        \"dtype\": \"category\",\n        \"num_unique_values\": 6,\n        \"samples\": [\n          \"Solo traveler\",\n          \"Couple\",\n          \"Group\"\n        ],\n        \"semantic_type\": \"\",\n        \"description\": \"\"\n      }\n    }\n  ]\n}"
            }
          },
          "metadata": {},
          "execution_count": 4
        }
      ],
      "source": [
        "path = '/content/'\n",
        "d1 = pd.read_csv(path + '아고다크롤링_리뷰랑날짜.csv')\n",
        "d2 = pd.read_csv(path + '아고다크롤링_국적객실유형.csv')\n",
        "d3 = pd.read_csv(path + '아고다크롤링_평점이랑여행유형.csv')\n",
        "# 데이터프레임을 열 방향으로 합치기\n",
        "df = pd.concat([d1, d2, d3], axis=1)"
      ]
    },
    {
      "cell_type": "code",
      "source": [
        "df.to_csv('/content/아고다크롤링_리뷰.csv')"
      ],
      "metadata": {
        "id": "U23Nn_rfvTJC"
      },
      "execution_count": 5,
      "outputs": []
    },
    {
      "cell_type": "markdown",
      "source": [
        "##정규 표현식\n",
        "\n",
        "\n",
        "*   리뷰들 중에서 한국어,영어,일본어 이렇게 3개의 언어로 구성되어 있습니다.\n",
        "\n",
        "    *   하지만 영어로된 리뷰들이 압도적으로 많기 때문에 영어 리뷰들과 숫자들을 뽑기로 결정하였습니다.\n",
        "    *   그리고 만약 번역을 한다면 의미가 변질될 수 있기 때문에 번역을 하지 않기로 했습니다\n"
      ],
      "metadata": {
        "id": "XeaVc-TkvmhW"
      }
    },
    {
      "cell_type": "code",
      "source": [
        "#소문자로  만들어주는 함수\n",
        "def make_lower_case(series):\n",
        "    \"\"\"\n",
        "    Convert all strings in the input Pandas Series to lowercase.\n",
        "\n",
        "    Parameters:\n",
        "    series (pandas.Series): Input Series containing strings.\n",
        "\n",
        "    Returns:\n",
        "    pandas.Series: New Series with strings converted to lowercase.\n",
        "    \"\"\"\n",
        "    return series.str.lower()"
      ],
      "metadata": {
        "id": "2MvNEm7xymlb"
      },
      "execution_count": 14,
      "outputs": []
    },
    {
      "cell_type": "code",
      "source": [
        "import re\n",
        "\n",
        "#리뷰들을 review로 받음\n",
        "\n",
        "\n",
        "#통일을 하기 위해 다 소문자로 바꿉니다\n",
        "review_content= df['review_content']\n",
        "\n",
        "review_lowercase=make_lower_case(review_content)\n",
        "review_lowercase\n"
      ],
      "metadata": {
        "colab": {
          "base_uri": "https://localhost:8080/"
        },
        "id": "c_5tIeq1vbVT",
        "outputId": "ef54b58b-61ef-4825-b423-13758e777273"
      },
      "execution_count": 17,
      "outputs": [
        {
          "output_type": "execute_result",
          "data": {
            "text/plain": [
              "0       is it necessary to write a review for this hot...\n",
              "1       as expected, shilla is shilla!! adding the eve...\n",
              "2       exellent location & service”\\nwe stayed at shi...\n",
              "3       \"i can understand why many people are looking ...\n",
              "4       완벽산 신라호텔 경험”\\n가든뷰에 17개월 아기와 함께 묵었습니다. 비록 저녁에 윗...\n",
              "                              ...                        \n",
              "2595    a very nice resort”\\nmake you feel great once ...\n",
              "2596    the hotel rooms update is way over due.”\\nthe ...\n",
              "2597    hotel with great children facilities”\\nthis ho...\n",
              "2598    perfect hotel for relaxing”\\nthe hotel offers ...\n",
              "2599    would definitely go there again”\\none of my fa...\n",
              "Name: review_content, Length: 2600, dtype: object"
            ]
          },
          "metadata": {},
          "execution_count": 17
        }
      ]
    },
    {
      "cell_type": "code",
      "source": [
        "def remove_newline(series):\n",
        "    # 문자열에서 '\\n'을 제거하고 반환\n",
        "    return series.str.replace('\\n', '')\n",
        "Remove_n = remove_newline(review_lowercase)\n",
        "Remove_n"
      ],
      "metadata": {
        "colab": {
          "base_uri": "https://localhost:8080/"
        },
        "id": "y8jwIfuU54pX",
        "outputId": "31e11f2f-4aec-4822-d0ac-34f3c28ee353"
      },
      "execution_count": 38,
      "outputs": [
        {
          "output_type": "execute_result",
          "data": {
            "text/plain": [
              "0       is it necessary to write a review for this hot...\n",
              "1       as expected, shilla is shilla!! adding the eve...\n",
              "2       exellent location & service”we stayed at shill...\n",
              "3       \"i can understand why many people are looking ...\n",
              "4       완벽산 신라호텔 경험”가든뷰에 17개월 아기와 함께 묵었습니다. 비록 저녁에 윗층에...\n",
              "                              ...                        \n",
              "2595    a very nice resort”make you feel great once yo...\n",
              "2596    the hotel rooms update is way over due.”the sh...\n",
              "2597    hotel with great children facilities”this hote...\n",
              "2598    perfect hotel for relaxing”the hotel offers ma...\n",
              "2599    would definitely go there again”one of my favo...\n",
              "Name: review_content, Length: 2600, dtype: object"
            ]
          },
          "metadata": {},
          "execution_count": 38
        }
      ]
    },
    {
      "cell_type": "code",
      "source": [
        "\n",
        "def Extract_number_alphabet(series):\n",
        "    \"\"\"\n",
        "    Extract numbers and words from the given strings\n",
        "\n",
        "    Parameters:\n",
        "    series (pandas.Series): Input Series containing strings with symbols.\n",
        "\n",
        "    Returns:\n",
        "    pandas.Series: New Series with symbols replaced with spaces.\n",
        "    \"\"\"\n",
        "    extracted_series = series.str.extractall(r'([a-zA-Z0-9]+)').groupby(level=0).agg(' '.join)\n",
        "    return extracted_series"
      ],
      "metadata": {
        "id": "xT35dQ18zzaK"
      },
      "execution_count": 39,
      "outputs": []
    },
    {
      "cell_type": "code",
      "source": [
        "#\\n이 붙어 있는 글자가 있기 때문에 space로 바꿔줍니다\n",
        "\n",
        "review_preprocessed = Extract_number_alphabet(Remove_n)\n",
        "\n",
        "\n",
        "print(type(review_preprocessed))\n",
        "review_preprocessed[0]"
      ],
      "metadata": {
        "colab": {
          "base_uri": "https://localhost:8080/"
        },
        "id": "4L5g2MMhv32f",
        "outputId": "36e87455-2cb0-4c9f-a89a-16d33704ac2f"
      },
      "execution_count": 89,
      "outputs": [
        {
          "output_type": "stream",
          "name": "stdout",
          "text": [
            "<class 'pandas.core.frame.DataFrame'>\n"
          ]
        },
        {
          "output_type": "execute_result",
          "data": {
            "text/plain": [
              "0       is it necessary to write a review for this hot...\n",
              "1       as expected shilla is shilla adding the evenin...\n",
              "2       exellent location service we stayed at shilla ...\n",
              "3       i can understand why many people are looking f...\n",
              "4                                                      17\n",
              "                              ...                        \n",
              "2595    a very nice resort make you feel great once yo...\n",
              "2596    the hotel rooms update is way over due the shi...\n",
              "2597    hotel with great children facilities this hote...\n",
              "2598    perfect hotel for relaxing the hotel offers ma...\n",
              "2599    would definitely go there again one of my favo...\n",
              "Name: 0, Length: 2513, dtype: object"
            ]
          },
          "metadata": {},
          "execution_count": 89
        }
      ]
    },
    {
      "cell_type": "code",
      "source": [
        "unique_series = review_preprocessed[0].unique()\n",
        "print(type(unique_series))"
      ],
      "metadata": {
        "colab": {
          "base_uri": "https://localhost:8080/"
        },
        "id": "Vyv-6tsR_eLD",
        "outputId": "a71e9959-ea76-4a30-b9c4-c19c2dfcc1e7"
      },
      "execution_count": 98,
      "outputs": [
        {
          "output_type": "stream",
          "name": "stdout",
          "text": [
            "<class 'numpy.ndarray'>\n"
          ]
        }
      ]
    },
    {
      "cell_type": "markdown",
      "source": [
        "NLTK을 이용한 토큰화\n",
        "\n",
        "\n",
        "*   Naturak Language Toolkit(NLTK)는 자연어 처리를 위해 만들어진 파이썬 라이브러리입니다.\n",
        "*  NLTK는 word_tokenize()를 통해 단어 토큰화를 할 수 있고 sent_tokenize()를 통해 문장 토큰화를 할 수 있습니다.\n",
        "\n",
        "\n"
      ],
      "metadata": {
        "id": "X9gZ1afZCSCf"
      }
    },
    {
      "cell_type": "markdown",
      "source": [
        "단어 토큰화"
      ],
      "metadata": {
        "id": "xJCxFPXvCp2L"
      }
    },
    {
      "cell_type": "code",
      "source": [
        "#NLTK 라이브러리 설치\n",
        "!pip install --user -U nltk\n",
        "import nltk\n",
        "nltk.download('punkt')"
      ],
      "metadata": {
        "colab": {
          "base_uri": "https://localhost:8080/"
        },
        "id": "uHu73goTCnjc",
        "outputId": "82fba901-f28a-468a-bf6a-ed4ae95a2bf4"
      },
      "execution_count": 55,
      "outputs": [
        {
          "output_type": "stream",
          "name": "stdout",
          "text": [
            "Requirement already satisfied: nltk in /usr/local/lib/python3.10/dist-packages (3.8.1)\n",
            "Requirement already satisfied: click in /usr/local/lib/python3.10/dist-packages (from nltk) (8.1.7)\n",
            "Requirement already satisfied: joblib in /usr/local/lib/python3.10/dist-packages (from nltk) (1.3.2)\n",
            "Requirement already satisfied: regex>=2021.8.3 in /usr/local/lib/python3.10/dist-packages (from nltk) (2023.12.25)\n",
            "Requirement already satisfied: tqdm in /usr/local/lib/python3.10/dist-packages (from nltk) (4.66.2)\n"
          ]
        },
        {
          "output_type": "stream",
          "name": "stderr",
          "text": [
            "[nltk_data] Downloading package punkt to /root/nltk_data...\n",
            "[nltk_data]   Unzipping tokenizers/punkt.zip.\n"
          ]
        },
        {
          "output_type": "execute_result",
          "data": {
            "text/plain": [
              "True"
            ]
          },
          "metadata": {},
          "execution_count": 55
        }
      ]
    },
    {
      "cell_type": "code",
      "source": [
        "\n",
        "from nltk.tokenize import word_tokenize\n",
        "import numpy as np\n",
        "\n",
        "def tokenize_text(text):\n",
        "    return word_tokenize(text)\n",
        "\n",
        "# Apply tokenization to each element in the array\n",
        "tokenized_list = [tokenize_text(text) for text in unique_series]\n",
        "\n",
        "print(tokenized_list)"
      ],
      "metadata": {
        "colab": {
          "base_uri": "https://localhost:8080/"
        },
        "id": "-wwN6_4nEerx",
        "outputId": "6e1a1bff-819e-4812-ed1f-8b00c94094d8"
      },
      "execution_count": 102,
      "outputs": [
        {
          "output_type": "stream",
          "name": "stdout",
          "text": [
            "[['is', 'it', 'necessary', 'to', 'write', 'a', 'review', 'for', 'this', 'hotel', 'they', 'upgraded', 'my', 'room', 'so', 'i', 'decided', 'to', 'write', 'a', 'review', 'haha', 'this', 'is', 'the', 'best', 'hotel', 'that', 'everyone', 'in', 'korea', 'knows', 'about', 'with', 'service', 'and', 'facilities', 'that', 'match', 'its', 'reputation', 'the', 'staff', 'are', 'friendly', 'even', 'though', 'i', 'checked', 'in', 'late', 'i', 'still', 'got', 'a', 'room', 'upgrade', 'and', 'the', 'interior', 'design', 'turns', 'the', 'old', 'into', 'vintage', 'but', 'it', 's', 'not', 'outdated', 'at', 'all', 'during', 'my', 'stay', 'i', 'walked', 'around', 'the', 'well', 'maintained', 'gardens', 'near', 'the', 'hotel', 'after', 'having', 'breakfast', 'and', 'it', 'was', 'the', 'happiest', 'memory', 'of', 'my', 'jeju', 'trip', 'even', 'if', 'there', 'are', 'many', 'new', 'and', 'good', 'hotels', 'shilla', 'is', 'definitely', 'the', 'best', 'in', 'jeju', 'i', 'plan', 'to', 'go', 'again', 'next', 'year', 'i', 'need', 'to', 'make', 'more', 'money'], ['as', 'expected', 'shilla', 'is', 'shilla', 'adding', 'the', 'evening', 'view', 'at', 'the', 'parkview', 'made', 'it', 'completely', 'satisfying', 'during', 'the', 'room', 'change', 'the', 'female', 'staff', 'member', 'who', 'helped', 'us', 'was', 'very', 'kind', 'and', 'helpful', 'unfortunately', 'we', 'couldn', 't', 'see', 'her', 'name', 'because', 'her', 'jacket', 'was', 'covering', 'it', 'she', 'was', 'really', 'great', 'all', 'the', 'other', 'staff', 'members', 'were', 'also', 'very', 'kind', 'however', 'the', 'two', 'women', 'who', 'were', 'in', 'charge', 'of', 'the', 'entrance', 'at', 'the', 'parkview', 'on', 'november', '14th', 'seemed', 'to', 'be', 'new', 'we', 'have', 'stayed', 'at', 'shilla', 'hotel', 'many', 'times', 'but', 'we', 'have', 'never', 'seen', 'anyone', 'who', 'was', 'unresponsive', 'overall', 'we', 'are', 'satisfied', 'and', 'will', 'come', 'back', 'again'], ['exellent', 'location', 'service', 'we', 'stayed', 'at', 'shilla', 'jeju', 'for', '3', 'days', 'the', 'location', 'is', 'excellent', 'they', 'have', 'many', 'restaurants', 'and', 'shops', 'near', 'by', 'easy', 'and', 'free', 'parking', 'on', 'site', 'also', 'the', 'staff', 'at', 'the', 'hotel', 'provides', 'excellent', 'services', 'this', 'property', 'is', 'really', 'big', 'has', 'adult', 'only', 'pool', 'hiking', 'course', 'along', 'the', 'cliff', 'with', 'amazing', 'ocean', 'view', 'gramping', 'site', 'and', 'more', 'highly', 'recommend', 'this', 'hotel'], ['i', 'can', 'understand', 'why', 'many', 'people', 'are', 'looking', 'for', 'it', 'during', 'my', '2', 'night', '3', 'day', 'trip', 'to', 'jeju', 'island', 'i', 'chose', 'to', 'stay', 'at', 'the', 'shilla', 'hotel', 'as', 'a', 'hotel', 'that', 'boasts', 'history', 'tradition', 'and', 'natural', 'surroundings', 'in', 'the', 'jungmun', 'tourist', 'complex', 'i', 'was', 'able', 'to', 'comfortably', 'heal', 'and', 'relax', 'the', 'accommodation', 'was', 'quiet', 'and', 'comfortable', 'and', 'i', 'slept', 'well', 'the', 'reason', 'for', 'this', 'was', 'not', 'only', 'because', 'of', 'the', 'clean', 'facilities', 'but', 'also', 'because', 'of', 'the', 'indescribable', 'comfort', 'above', 'all', 'i', 'recommend', 'this', 'hotel', 'because', 'of', 'the', 'beautiful', 'forest', 'path', 'in', 'front', 'of', 'the', 'hotel', 'the', 'themed', 'observatory', 'and', 'the', 'cool', 'tech', 'that', 'connects', 'to', 'the', 'nearby', 'beach', 'the', 'background', 'is', 'so', 'beautiful', 'that', 'even', 'just', 'taking', 'pictures', 'and', 'walking', 'around', 'could', 'take', 'half', 'a', 'day', 'i', 'highly', 'recommend', 'this', 'place', 'for', 'families', 'and', 'couples'], ['17'], ['worth', 'every', 'penny', 'room', 'is', 'spacious', 'clean', 'and', 'neat', 'every', 'staff', 'was', 'so', 'kind', 'and', 'willing', 'to', 'help', 'that', 'you', 'don', 't', 'really', 'need', 'to', 'ask', 'for', 'a', 'help', 'because', 'they', 'ask', 'if', 'you', 'need', 'help', 'before', 'you', 'ask', 'them', 'for', 'a', 'help', 'facilities', 'are', 'also', 'clean', 'and', 'luxurious', 'if', 'you', 'are', 'ready', 'to', 'pay', 'for', 'extra', 'money', 'for', 'the', 'higher', 'quality', 'service', 'this', 'is', 'the', 'place'], ['it', 's', 'always', 'good', 'place', 'to', 'stay', 'traveling', 'with', 'two', 'young', 'children', 'and', 'elderly', 'parents', 'good', 'place', 'to', 'stay', 'with', 'family', 'good', 'food', 'good', 'facilities'], ['excellent', 'we', 'are', 'so', 'exhausted', 'work', 'and', 'travel', 'but', 'when', 'we', 'stepped', 'in', 'this', 'place', 'like', 'heaven', 'everyone', 'welcome', 'us', 'and', 'make', 'us', 'like', 'home', 'defi6', 'we', 'will', 'be', 'backhand', 'refer', 'to', 'my', 'friends', 'and', 'family'], ['hands', 'down', 'the', 'best', 'accomms', 'in', 'jeju', 'the', 'best', 'hotel', 'in', 'the', 'area', 'if', 'not', 'the', 'entirety', 'of', 'jeju', 'even', 'as', 'a', 'korean', 'this', 'was', 'a', 'mindblowing', 'hotel', 'loved', 'the', 'garden', 'and', 'seafront', 'walkway', 'especially', 'go', 'for', 'the', 'better', 'rooms', 'because', 'they', 'are', 'worth', 'it', 'my', 'only', 'complaint', 'is', 'the', 'lack', 'of', 'food', 'options', 'nearby', 'but', 'you', 'can', 'get', 'stuff', 'delivered', 'using', 'food', 'delivery', 'apps', 'or', 'order', 'room', 'service', 'i', 'heard', 'the', 'portions', 'were', 'huge'], ['amazing', 'view', 'and', 'excellent', 'service', 'this', 'hotel', 'is', 'provided', 'us', 'with', 'the', 'best', 'scenery', 'and', 'fabulous', 'services', 'we', 'are', 'really', 'satisfied', 'with', 'the', 'hospitality', 'shown', 'during', 'our', 'stay', 'there'], ['amazing', 'grounds', 'the', 'grounds', 'and', 'garden', 'are', 'simply', 'beautiful', 'really', 'well', 'kept', 'and', 'clean', 'rooms'], ['good', 'all', 'services', 'were'], ['top', 'notch', 'hotel', 'thanks', 'for', 'the', 'great', 'experience'], ['good', 'location', 'and', 'comfortable', 'stay', 'stayed', '4', 'nights', 'good', 'for', 'family', 'holidays'], ['wonderful', 'resort', 'in', 'jeju', 'i', 'go', 'there', 'every', 'year', 'wonderful', 'resort', 'in', 'jeju'], ['beautiful', 'my', 'stay', 'at', 'the', 'shilla', 'was', 'wonderful', 'the', 'staff', 'and', 'the', 'food', 'at', 'the', 'restaurants', 'were', 'great'], ['amazing', 'the', 'shilla', 'really', 'outdid', 'themselves', 'the', 'facility', 'was', 'gorgeous', 'and', 'the', 'staff', 'were', 'top', 'notch', 'looking', 'forward', 'to', 'coming', 'back', 'to', 'jeju', 'island', 'and', 'to', 'this', 'hotel'], ['not', 'worth', 'the', 'valuer', 'parking', 'space', 'is', 'unbelievably', 'too', 'tight', 'there', 'is', 'no', 'room', 'to', 'open', 'either', 'passenger', 'or', 'driver', 'doors', 'the', 'space', 'that', 'was', 'meant', 'to', 'be', 'for', 'two', 'cars', 'they', 'split', 'into', 'three', 'the', 'room', 'furniture', 'shows', 'age', 'but', 'otherwise', 'in', 'decent', 'shape', 'dining', 'restaurant', 'is', 'not', 'worth', 'the', 'price', 'but', 'average', 'enough', 'if', 'you', 'really', 'dont', 'have', 'other', 'options', 'the', 'room', 'door', 'knobs', 'seem', 'worn', 'out', 'and', 'loose', 'at', 'times'], ['amenities', 'it', 'is', 'very', 'satisfied', 'overall', 'except', 'toothbrushes', 'and', 'toothpaste'], ['simply', 'amazing', 'the', 'shilla', 'jeju', 'definitely', 'outdid', 'themselves', 'my', 'parents', 'and', 'i', 'had', 'a', 'blast', 'and', 'the', 'service', 'was', 'impeccable', 'looking', 'forward', 'to', 'coming', 'back', 'to', 'jeju'], ['too', 'old', 'and', 'expensive', 'shilla', 'jeju', 'hotel', 'has', 'a', 'nice', 'swimming', 'pool', 'and', 'well', 'maintained', 'however', 'the', 'room', 'was', 'old', 'fashioned', 'and', 'the', 'price', 'of', 'the', 'room', 'is', 'ripped', 'off', 'as', 'considering', 'of', 'the', 'condition', 'the', 'breakfast', 'and', 'the', 'restaurant', 'foods', 'are', 'also', 'very', 'expensive', 'so', 'if', 'you', 'do', 'care', 'about', 'the', 'swimming', 'pool', 'it', 'is', 'ok', 'to', 'stay', 'but', 'i', 'm', 'not', 'sure', 'if', 'it', 'is', 'worth', 'it'], ['soso'], ['enjoyed', 'the', 'stay', 'kind', 'staffs', 'clean', 'and', 'beautiful'], ['good'], ['it', 's', 'way', 'way', 'rip', 'off', 'all', 'stuffs', 'are', 'too', 'old', 'and', 'i', 'paid', 'almost', '600bucks', 'for', 'a', 'day', 'but', 'the', 'room', 'was', 'so', 'disappointing', 'i', 'should', 'buy', 'even', 'my', 'toothbrush', 'and', 'paste', 'foods', 'are', 'delicious', 'but', 'not', 'included', 'in', 'the', 'room', 'cost', 'and', 'the', 'meal', 'cost', 'was', 'reasonable', 'spa', 'and', 'swimming', 'pools', 'are', 'awesome', 'even', 'snow', 'storm', 'weather', 'but', 'i', 'd', 'rather', 'use', 'other', 'near', 'hotels', 'which', 'has', 'similar', 'spa', 'pools', 'and', 'restaurants', 'and', 'cheaper', 'price'], ['had', 'a', 'blast', 'pros', 'heated', 'pool', 'live', 'band', 'by', 'the', 'pool', 'beautiful', 'landscape', 'on', 'a', 'small', 'cliff', 'over', 'jungnum', 'beach', 'peaceful', 'helpful', 'staff', 'big', 'room', 'cons', 'need', 'a', 'funny', 'registration', 'process', 'at', 'the', 'fitness', 'counter', 'to', 'use', 'the', 'adult', 'pool', 'we', 'didn', 't', 'know', 'so', 'had', 'to', 'walk', 'back', 'from', 'the', 'pool', 'to', 'the', 'hotel', 'to', 'register', 'before', 'walking', 'back', 'out', 'to', 'the', 'adult', 'pool'], ['paradise', 'fairytale', 'hotel', 'next', 'to', 'the', 'sea'], ['good', 'for', 'family', 'with', 'kids', 'staff', 'is', 'friendly', 'and', 'helpful', 'room', 'is', 'spacious', 'and', 'clean', 'facilities', 'and', 'location', 'are', 'great'], ['beautiful', 'hotel', 'with', 'magnificent', 'view', 'and', 'beautiful', 'garden', 'restaurants', 'are', 'good', 'too', 'one', 'thing', 'is', 'that', 'guests', 'of', 'the', 'hotel', 'still', 'have', 'to', 'pay', 'to', 'use', 'the', 'sun', 'deck', 'on', 'the', 'pool', 'by', 'the', 'hour'], ['exceptional', 'food', 'cost', 'out', 'of', 'line', 'with', 'rest', 'of', 'island'], ['excellent', 'hotel', 'but', 'always', 'something', 'missing', 'the', 'location', 'and', 'facilities', 'are', 'excellent', 'we', 'had', 'glamping', 'during', 'out', 'stay', 'it', 'is', 'fun', 'and', 'the', 'food', 'is', 'excellent', 'the', 'room', 'is', 'large', 'enough', 'however', 'there', 'is', 'always', 'something', 'missing', 'on', 'second', 'stay', 'of', 'our', 'stay', 'no', 'shampoo', 'and', 'body', 'wash', 'replaced', 'on', 'our', 'third', 'stay', 'toilet', 'tissue', 'paper', 'was', 'not', 'refilled', 'however', 'the', 'staff', 'is', 'very', 'helpful', 'and', 'nice', 'still', 'good', 'for', 'couple', 'family', 'trip'], ['excellent', 'i', 'rarely', 'write', 'reviews', 'but', 'i', 'had', 'an', 'exceptional', 'time', 'at', 'this', 'hotel', 'service', 'and', 'facilities', 'are', 'all', 'first', 'rate', 'would', 'not', 'hesitate', 'to', 'stay', 'here', 'again'], ['recommend', 'the', 'shilla', 'jeju', 'if', 'your', 'family', 'have', 'to', 'stay', 'because', 'of', 'traveling', 'in', 'jeju', 'i', 'strongly', 'recommend', 'shilla', 'hotel', 'i', 'had', 'a', 'three', 'course', 'dinner', 'with', 'my', 'family', 'at', 'shilla', 'hotel', 'from', 'there', 'we', 'had', 'the', 'best', 'dinner', 'and', 'all', 'the', 'staff', 'were', 'kind'], ['best', 'choice', 'in', 'jeju', 'best', 'choice', 'in', 'jeju', 'island', 'but', 'pricey'], ['good', 'good'], ['a', 'samsung', 'hotel', 'samsung', 'runs', 'four', 'hotels', 'under', 'the', 'shilla', 'name', 'as', 'beautiful', 'as', 'the', 'main', 'interiors', 'were', 'there', 'were', 'major', 'issues', 'the', 'hallways', 'smelled', 'like', 'moldy', 'straw', 'all', 'the', 'time', '4', 'nights', 'we', 'were', 'there', 'the', 'beds', 'were', 'uncomfortable', 'food', 'drinks', 'were', 'very', 'expensive', 'french', 'fries', 'cost', 'about', '36', 'and', 'my', 'mojito', '26', 'served', 'at', 'the', 'indoor', 'outdoor', 'pool', 'filled', 'with', 'very', 'young', 'children', 'pee', 'poo', 'pool', 'i', 'think', 'their', 'hotels', 'are', 'for', 'employees', 'who', 'may', 'be', 'getting', 'discounts', 'not', 'for', 'tourists'], ['above', 'average', 'the', 'room', 'was', 'quite', 'outdated'], ['overly', 'priced', 'a', 'resort', 'hotel', 'and', 'super', 'dreamy', 'however', 'too', 'pricey'], ['superb', 'facility', 'great', 'hotel', 'with', 'tidy', 'room', 'hotel', 'clerk', 'and', 'staff', 'were', 'all', 'very', 'friendly', 'liked', 'the', 'bathroom', 'most', 'since', 'it', 'had', 'a', 'tub', 'together', 'with', 'a', 'shower', 'booth', 'hotel', 'buffet', 'was', 'huge', 'but', 'quite', 'expensive', 'both', 'indoor', 'and', 'outdoor', 'swimming', 'pool', 'facilities', 'were', 'great'], ['amazing', 'place', 'very', 'recommend'], ['good', 'to', 'stay', 'good', 'to', 'stay', 'in', 'shilla', 'jeju', 'every', 'staff', 'was', 'nice', 'kind', 'and', 'professional'], ['very', 'good', 'it', 'was', 'raining', 'the', 'whole', 'time', 'due', 'to', 'typhoon', 'thus', 'the', 'lower', 'ratings', 'the', 'hotel', 'is', 'rather', 'old'], ['no', 'doubtful', 'it', 'is', 'the', 'best', 'in', 'jeju', 'shilla', 'is', 'good', 'for', 'all', 'type', 'of', 'tourists', 'it', 'possess', 'it', 's', 'own', 'beautiful', 'beach', 'and', 'fantastic', 'garden', 'especially', 'outdoor', 'swimming', 'pool', 'was', 'quite', 'fun', 'food', 'is', 'good', 'as', 'well'], ['good', 'hotel', 'clean', 'the', 'best', 'hotel', 'in', 'jeju', 'clean', 'and', 'comfortable'], ['just', 'go', 'go', 'if', 'you', 'are', 'not', 'on', 'a', 'budget'], ['always', 'best', 'best', 'in', 'jeju', 'island', 'lots', 'of', 'activities', 'for', 'children', 'and', 'beautiful', 'scenery', 'near', 'the', 'south', 'coast', 'of', 'the', 'island'], ['relaxing', 'place', 'i', 'really', 'enjoyed', 'the', 'hotel', 'staff', 'was', 'very', 'friendly', 'but', 'it', 'would', 'make', 'things', 'easier', 'if', 'they', 'spoke', 'more', 'english', 'the', 'room', 'was', 'comfortable', 'and', 'we', 'had', 'a', 'nice', 'time', 'there'], ['no', 'need', 'to', 'explain', 'fantasitc', 'great', 'service', 'great', 'location', 'great', 'staffs', 'we', '9', 'family', 'members', 'could', 'enjoy', 'and', 'had', 'wonderful', 'time', 'in', 'the', 'hotel', 'during', 'our', 'stay', 'we', 'do', 'not', 'need', 'to', 'go', 'outside', 'and', 'we', 'fully', 'enjoyed', 'hotel', 'facilities', 'during', 'all', 'day', 'there', 'was', 'lots', 'of', 'programs', 'for', 'children', 'so', 'parents', 'with', 'children', 'can', 'stay', 'more', 'easy'], ['caveat', 'emptor', 'this', 'property', 'is', 'very', 'nice', 'however', 'there', 'are', 'many', 'caveats', 'that', 'the', 'traveler', 'should', 'be', 'cautioned', 'on', 'the', 'good', 'beautiful', 'grounds', 'very', 'nice', 'linen', 'good', 'wifi', 'easy', 'check', 'out', 'the', 'bad', 'very', 'limited', 'pool', 'service', 'try', 'getting', 'any', 'food', 'beverage', 'it', 'is', 'a', 'challenge', 'towels', 'just', 'lie', 'there', 'uncollected', 'no', 'one', 'comes', 'around', 'to', 'check', 'on', 'guest', 'needs', 'very', 'limited', 'facilities', 'outside', 'the', 'property', 'you', 'are', 'forced', 'to', 'eat', 'in', 'the', 'hotel', 'unless', 'you', 'choose', 'to', 'take', 'a', 'cab', 'ride', 'staff', 'are', 'very', 'green', 'and', 'need', 'enhanced', 'training', 'limited', 'english', 'language', 'skills', 'mediocre', 'beach', 'front', 'the', 'ugly', 'food', 'and', 'beverage', 'pricing', 'is', 'extremely', 'expensive', 'bordering', 'on', 'gouging', 'a', 'fruit', 'plate', 'is', '60', 'same', 'as', 'a', 'cheese', 'plate', 'us', '60', 'good', 'luck', 'trying', 'to', 'get', 'some', 'bread', 'or', 'crackers', 'to', 'go', 'with', 'that', 'cheese', 'there', 'is', 'no', 'a', 'la', 'carte', 'breakfast', 'option', 'buffet', 'is', 'at', 'us', '42', 'per', 'person', 'the', 'mark', 'of', 'a', 'satisfactory', 'stay', 'is', 'if', 'one', 'would', 'revisit', 'the', 'property', 'i', 'can', 't', 'say', 'i', 'would'], ['worth', 'the', 'expense', 'i', 'do', 'not', 'usually', 'stay', 'in', 'high', 'end', 'resorts', 'so', 'this', 'was', 'quite', 'a', 'treat', 'for', 'me', 'from', 'the', 'moment', 'we', 'arrived', 'until', 'our', 'final', 'farewells', 'it', 'was', 'a', 'pleasure', 'living', 'in', 'and', 'around', 'the', 'shilla', 'for', 'our', 'long', '4th', 'of', 'july', 'weekend', 'we', 'especially', 'enjoyed', 'the', 'quiet', 'adult', 'pool', 'our', 'last', 'night', 'there', 'we', 'sat', 'at', 'the', 'pool', 'and', 'had', 'the', 'lifeguard', 'order', 'dinner', 'brought', 'up', 'to', 'us', 'what', 'a', 'treat', 'there', 'was', 'high', 'quality', 'live', 'music', 'at', 'the', 'lower', 'pool', 'every', 'night', 'many', 'interesting', 'paved', 'paths', 'around', 'the', 'grounds', 'including', 'a', 'beautiful', 'one', 'down', 'to', 'the', 'beach', 'the', 'landscaping', 'was', 'excellent', 'one', 'of', 'our', 'favorite', 'features', 'as', 'non', 'korean', 'speakers', 'was', 'the', 'concierge', 'there', 'were', 'three', 'of', 'them', 'so', 'no', 'waiting', 'she', 'set', 'up', 'dinners', 'taxis', 'and', 'answered', 'all', 'of', 'our', 'tourist', 'questions', 'in', 'perfect', 'english', 'it', 'was', 'really', 'hard', 'to', 'leave', 'and', 'come', 'back', 'to', 'the', 'real', 'world', 'lest', 'you', 'think', 'the', 'place', 'was', 'totally', 'perfect', 'i', 'must', 'mention', 'that', 'the', 'parking', 'was', 'terrible', 'the', 'lot', 'was', 'full', 'and', 'cars', 'were', 'parked', 'all', 'along', 'the', 'curbs', 'there', 'just', 'didn', 't', 'seem', 'to', 'be', 'enough', 'parking', 'since', 'i', 'didn', 't', 'have', 'a', 'car', 'it', 'didn', 't', 'bother', 'me', 'much', 'i', 'hope', 'to', 'return', 'for', 'another', 'visit', 'soon'], ['glamping', 'awesome', 'stay', 'at', 'shilla', 'jeju'], ['nice', 'hotel', 'the', 'hotel', 'has', 'nice', 'facilities', 'that', 's', 'suitable', 'for', 'young', 'or', 'old', 'alike', 'rooms', 'are', 'nice', 'and', 'spacious'], ['friendly', 'staff', 'very', 'helpful'], ['bad', 'hotel', 'staff', 'service', 'mind', 'poor', 'english', 'speaking', 'and', 'bad', 'service', 'mind', 'be', 'aware', 'booking', 'this', 'hotel', 'with', 'internet', 'agent', 'the', 'hotel', 'staffs', 'do', 'not', 'provide', 'good', 'service'], ['excellent', 'for', 'almost', 'aspects', 'except', 'room', 'massage', 'as', 'wrote', 'in', 'the', 'title', 'section', 'it', 'really', 'was', 'beautiful', 'scenery', 'interior', 'and', 'garden', 'access', 'to', 'the', 'beach', 'the', 'only', 'bad', 'point', 'was', 'the', 'quality', 'of', 'massage', 'service', 'provided', 'by', 'a', 'contractor'], ['your', 'best', 'choice', 'for', 'the', 'vacation', 'interior', 'staff', 'performance', 'high', 'classif', 'you', 'want', 'to', 'stay', 'in', 'jeju', 'for', 'very', 'special', 'holiday', 'shilla', 'will', 'be', 'the', 'best', 'choice', 'of', 'course', 'it', 'costs', 'a', 'lot', 'but', 'your', 'time', 'in', 'this', 'hotle', 'will', 'be', 'invaluable', 'what', 'i', 'loved', 'the', 'most', 'was', 'their', 'warm', 'and', 'romantic', 'interior', 'pastel', 'toned', 'interior', 'is', 'truly', 'warm', 'and', 'romantic', 'the', 'room', 'was', 'confortable', 'and', 'its', 'bathroom', 'was', 'also', 'very', 'classy', 'the', 'most', 'well', 'educated', 'staff', 'was', 'so', 'nice', 'if', 'i', 'have', 'the', 'other', 'chance', 'to', 'stay', 'in', 'jeju', 'for', 'my', 'special', 'holiday', 'i', 'will', 'stay', 'again'], ['wonderful', 'room', 'facilities', 'moonlight', 'swimming', 'camping', 'lunch', 'beautiful', 'gargeni', 'satisfy', 'all', 'about', 'there', 'room', 'condition', 'site', 'of', 'window', 'view', 'garden', 'swimming', 'pool', 'even', 'restaurant', 'compcierge', 'is', 'very', 'kind', 'so', 'makes', 'me', 'more', 'comfortable'], ['nice', 'camping', 'village', 'location', 'playrooms', 'for', 'children', 'camping', 'villagenice', 'but', 'foods', 'are', 'expensive'], ['awesome', 'satisfying', 'service', 'facilities', 'room', 'condition', 'and', 'beddingi', 'would', 'like', 'to', 'stay', 'at', 'the', 'shilla', 'jeju', 'again', 'if', 'i', 'visit', 'jeju', 'island', 'later', 'there', 'are', 'some', 'details', 'that', 'could', 'be', 'improved', 'but', 'still', 'it', 'is', 'satisfying', 'as', 'it', 'is', 'now'], ['good', 'stay', 'outside', 'pool', 'in', 'winter', 'season', 'beautiful', 'garden'], ['good', 'locationand', 'good', 'bakerygood', 'but', 'bit', 'old'], ['i', 'loke', 'shilla', 'the', 'hotel', 'staff', 'bery', 'helpful', 'and', 'friendly', 'the', 'facility', 'is', 'superbvery', 'good', 'i', 'spent', 'the', 'mew', 'year', 's', 'eve', 'in', 'shilla', 'music', 'was', 'awsome', 'and', 'free', 'glass', 'of', 'champagne', 'on', 'the', 'count', 'down'], ['hotel', 'shilla', 'view', 'clean', 'serviceit', 's', 'good', 'and', 'very', 'kindly'], ['nice', 'to', 'relax', 'warm', 'swimming', 'pool', 'cozyit', 'was', 'a', 'greate', 'vacation', 'in', 'the', 'shilla', 'jeju', 'all', 'staffs', 'were', 'friendly', 'and', 'room', 'condition', 'was', 'very', 'nice', 'i', 'recommand', 'to', 'stay', 'in', 'a', 'new', 'building'], ['honeymoon', 'getaway', 'spacious', 'cleanliness', 'friendlinesswe', 'stayed', 'here', 'for', 'our', 'honeymoon', 'and', 'it', 'was', 'excellent', 'we', 'wouldn', 't', 'have', 'stayed', 'anywhere', 'else', 'spacious', 'rooms', 'bathrooms', 'were', 'clean', 'and', 'the', 'room', 'service', 'was', 'above', 'expectations', 'everything', 'was', 'worth', 'every', 'penny', 'and', 'didn', 't', 'have', 'any', 'regrets'], ['best', 'hotel', 'private', 'beach', 'pool', 'foodi', 'just', 'love', 'staying', 'here', 'it', 'is', 'the', 'best', 'experience', 'u', 'can', 'have', 'while', 'in', 'jeju', 'id', 'defn', 'visit', 'here', 'again', 'for', 'my', 'next', 'tri', 'they', 'gave', 'us', 'a', 'cake', 'and', 'a', 'box', 'of', 'chocolate', 'make', 'sure', 'u', 'join', 'gold', 'club'], ['super', 'good', 'concierge', 'view', 'from', 'the', 'room', 'concierge', 'and', 'locationawesome', 'it', 'was', 'the', 'perfect', 'place', 'for', 'a', 'getaway', 'i', 'will', 'be', 'back', 'd'], ['amazing', 'view', 'amazing', 'service', 'location', 'service', 'and', 'toiletries'], ['happiness', 'at', 'the', 'shilla', 'jeju', 'lovely', 'ambience', 'stunning', 'views', 'of', 'the', 'pacific', 'and', 'lovely', 'walkways', 'around', 'the', 'hotel', 'not', 'to', 'forget', 'the', 'marvellous', 'beach', 'superb', 'highly', 'recommend', 'to', 'family', 'and', 'friends', 'you', 'will', 'have', 'the', 'time', 'of', 'your', 'life'], ['good', 'location', 'environment', 'air'], ['by', 'far', 'the', 'best', 'hotel', 'i', 've', 'stayed', 'comfort', 'facilities', 'and', 'luxurious', 'this', 'is', 'by', 'far', 'the', 'best', 'hotel', 'i', 've', 'stayed', 'in', 'my', 'life', 'i', 've', 'booked', 'for', '3', 'ocean', 'view', 'rooms', 'for', '2', 'nights', 'i', 'never', 'wanted', 'to', 'leave', 'the', 'hotel', 'the', 'bed', 'was', 'perfect', 'and', 'bathroom', 'was', 'compatibly', 'awesome', 'the', 'view', 'is', 'priceless', 'especially', 'in', 'the', 'morning', 'they', 'could', 've', 'hired', 'a', 'better', 'live', 'band', 'though', 'but', 'the', 'overall', 'concept', 'of', 'this', 'hotel', 'is', 'just', 'pure', 'luxury', 'don', 't', 'forget', 'to', 'check', 'out', 'the', 'camping', 'site', 'while', 'you', 're', 'there', 'though', 'it', 's', 'leaning', 'on', 'the', 'pricey', 'side', 'this', 'is', 'the', 'kind', 'of', 'hotel', 'that', 'is', 'worth', 'the', 'try', 'and', 'money', 'go', 'for', 'it', 'you', 'won', 't', 'regret'], ['the', 'shilla', 'jeju', 'good'], ['castle', 'bar', 'and', 'mountain', 'at', 'the', 'backyard', 'cleanses', 'nice', 'castle', 'bar', 'mountain', 'climbing', 'inside', 'the', 'hotelvery', 'relaxed', 'good', 'food', 'near', 'the', 'hotel', 'some', 'of', 'the', 'sights', 'remind', 'me', 'of', 'hawaii'], ['the', 'shilla', 'jeju', 'kind', 'staffs', 'nice', 'pool', 'good', 'restaurantclean', 'and', 'decent', 'room', 'nice', 'pool', 'and', 'private', 'beach'], ['nice', 'garden', 'facing', 'sea', 'romantic', 'clean', 'quiet', 'nice', 'gardens'], ['the', 'best', 'in', 'korea', 'good', 'location', 'good', 'food', 'and', 'fun', 'this', 'is', 'really', 'a', 'nice', 'exprience', 'the', 'hotel', 'is', 'the', 'best', 'in', 'that', 'area', 'what', 'most', 'amazing', 'was', 'that', 'i', 'even', 'saw', 'a', 'korean', 'couple', 'ml', 'at', 'the', 'balcony', 'of', 'the', 'opposite', 'hotel'], ['discriminated', 'hotel', 'policy', 'expensive', 'but', 'nice', 'pool', 'restaurants', 'viewwe', 'decided', 'to', 'go', 'stay', 'at', 'the', 'shilla', 'for', 'our', 'quick', 'getaway', 'to', 'celebrate', 'and', 'it', 'is', 'a', 'great', 'place', 'to', 'stay', 'nice', 'scenery', 'nice', 'amenities', 'close', 'to', 'the', 'beach', 'room', 'in', 'itself', 'was', 'a', 'disappointment', 'nice', 'decoration', 'old', 'fashion', 'and', 'simply', 'old', 'furniture', 'nice', 'balcony', 'oldest', 'room', 'electronics', 'i', 'have', 'seen', 'since', 'i', 'have', 'been', 'travelling', 'on', 'business', 'bathroom', 'was', 'nice', 'decorated', 'though', 'toilet', 'seat', 'was', 'broken', 'and', 'all', 'the', 'plumbery', 'was', 'about', '20', 'years', 'old', 'no', 'rain', 'shower', 'no', 'water', 'mixer', 'still', 'one', 'cold', 'and', 'one', 'hot', 'not', 'acceptable', 'for', 'such', 'a', 'high', 'rated', 'hotel', 'dinner', 'was', 'very', 'nice', 'however', 'it', 'comes', 'as', 'extra', 'with', 'a', 'steep', 'price', 'guerlain', 'spa', 'was', 'just', 'amazing', 'but', 'again', 'comes', 'as', 'a', 'very', 'steep', 'extra', 'price', 'pool', 'and', 'jacuzzi', 'free', 'access', 'are', 'very', 'nice', 'as', 'you', 'can', 'go', 'from', 'indoor', 'to', 'outdoor', 'by', 'a', 'tunnel', 'very', 'clean', 'and', 'amazing', 'i', 'will', 'never', 'go', 'back', 'to', 'the', 'shilla', 'jeju', 'nor', 'any', 'shilla', 'at', 'all', 'i', 'feel', 'offended', 'and', 'robbed', 'as', 'the', 'experience', 'is', 'not', 'at', 'all', 'in', 'line', 'with', 'the', 'expectation', 'the', 'name', 'shilla', 'is', 'brining', 'overall', 'there', 'are', 'plenty', 'of', 'other', 'hotels', 'to', 'choose', 'from', 'in', 'the', 'same', 'area', 'which', 'might', 'offered', 'better', 'values'], ['luxury', 'hotel', 'but', 'still', 'not', 'worth', 'of', 'money', 'friendly', 'staff', 'elegant', 'lobby', 'and', 'nice', 'swimming', 'poolsit', 'was', 'relaxing', 'and', 'nice', 'the', 'hotel', 'is', 'expensive', 'and', 'upscale', 'we', 'have', 'not', 'used', 'any', 'facilities', 'but', 'had', 'their', 'breakfast', 'buffet', 'as', 'everyone', 'was', 'praising', 'about', 'their', 'breakfast', 'the', 'food', 'was', 'good', 'quality', 'but', 'we', 'were', 'disappointed', 'with', 'the', 'food', 'selection', 'i', 'still', 'thinks', 'it', 'is', 'not', 'worth', 'of', 'money', 'comparing', 'to', 'other', 'hotels', 'in', 'jeju'], ['nice', 'hotel', 'and', 'near', 'to', 'some', 'of', 'the', 'attrations', 'clean', 'near', 'to', 'beach', 'near', 'to', 'attractionsnice', 'place', 'to', 'stay', 'staff', 'are', 'all', 'very', 'friendly', 'easy', 'access', 'to', 'some', 'of', 'the', 'attraction', 'in', 'jeju', 'island'], ['i', 'can', 't', 'summarize', 'this', 'hotel', 'in', 'words', 'view', 'service', 'all', 'inclusive', 'everything', 'view', 'service', 'all', 'inclusive', 'everything', 'good', 'and', 'perfect', 'well', 'maintained'], ['a', 'really', 'luxurious', 'place', 'to', 'stay', 'my', 'wife', 'loved', 'it', 'excellent', 'room', 'buffet', 'activities', 'to', 'choose', 'fromfantastic', 'stay', 'hospitable', 'staff', 'clean', 'rooms', 'great', 'view', 'much', 'much', 'better', 'than', 'the', 'hyatt', 'regency', 'which', 'messed', 'up', 'our', 'reservation', 'and', 'weren', 't', 'willing', 'to', 'resolve', 'the', 'issue'], ['very', 'good', 'service', 'rooms', 'not', 'that', 'group', 'service', 'landscaping', 'activitiesstay', 'was', 'great', 'the', 'staff', 'is', 'really', 'good', 'and', 'well', 'managed', 'always', 'someone', 'around', 'to', 'help', 'the', 'rooms', 'themselves', 'are', 'nothing', 'special', 'unless', 'you', 'go', 'for', 'the', 'really', 'expensive', 'options', 'but', 'the', 'standard', 'room', 'just', 'looks', 'like', 'any', 'other', 'hotel', 'there', 'are', 'quite', 'a', 'few', 'hotel', 'activities', 'to', 'enjoy'], ['enjoyed', 'the', 'beach', 'private', 'beach', 'airport', 'shuttle', 'proximity', 'to', 'local', 'restaurants', 'and', 'shopsroom', 'temperature', 'never', 'went', 'below', '23', '5', 'degree', 'c', 'hotel', 'staffs', 'confirmed', 'that', 'that', 'is', 'the', 'minimum', 'temperature', 'the', 'rooms', 'can', 'be', 'cooled', 'to', 'except', 'for', 'the', 'private', 'beach', 'not', 'worth', 'the', 'money', 'we', 'paid', 'for', 'our', 'stay'], ['luxury', 'hotel', 'with', 'a', 'great', 'location', 'private', 'beach', 'house', 'landscaping', 'servicethe', 'shilla', 'has', 'a', 'great', 'location', 'along', 'the', 'beach', 'and', 'provides', 'a', 'private', 'beach', 'house', 'for', 'its', 'guests', 'definitely', 'worth', 'it', 'in', 'high', 'season', 'when', 'the', 'beach', 'is', 'crowded'], ['great', 'place', 'to', 'relax', 'huge', 'spacious', 'grounds', 'heated', 'pool', 'and', 'ample', 'pool', 'facilities', 'great', 'gymloved', 'the', 'shilla', 'experience', 'the', 'hotel', 'was', 'well', 'appointed', 'pool', 'was', 'heated', 'as', 'were', 'the', 'cabanas', 'hotel', 'provided', 'gym', 'gear', 'including', 'shoes', 'sega', 'games', 'room'], ['romantic', 'hotel', 'luxary', 'romantic', 'great', 'hoteli', 'love', 'this', 'hotel', 'live', 'music', 'all', 'over', 'the', 'places', 'even', 'by', 'the', 'swimming', 'pool', 'very', 'family', 'friendly', 'kids', 'can', 'have', 'a', 'lot', 'of', 'fun', 'in', 'their', '5', 'star', 'swimming', 'pool'], ['interest', 'hotel', 'again', 'good', 'restraurant', 'good', 'view', 'famous', 'pool'], ['fantastic', 'and', 'memorable', 'stay', 'in', 'shilla', 'hugh', 'surrounding', 'unique', 'and', 'comfortableno', 'problem', 'simply', 'wonderful'], ['friendly', 'staff', 'great', 'surroundings', 'relaxed', 'place', 'great', 'staff', 'great', 'service', 'great', 'place'], ['comfortable', 'room', 'but', 'too', 'pricey', 'swimming', 'pool', 'garden', 'beachthe', 'room', 'was', 'comfortable', 'staff', 'are', 'friendly', 'but', 'the', 'price', 'is', 'too', 'expensive', 'compared', 'to', 'the', 'room', 'size', 'good', 'to', 'take', 'a', 'walk', 'in', 'the', 'garden', 'to', 'the', 'beach', 'nice', 'area', 'and', 'neighborhood'], ['a', 'hotel', 'with', 'beautiful', 'garden', 'and', 'ocean', 'view', 'garden', 'pool', 'viewfriendly', 'staff', 'nice', 'seafood', 'buffet', 'very', 'convenient', 'for', 'family', 'with', 'young', 'children'], ['amazing', 'stay', 'in', 'the', 'shilla', 'jeju', 'beautiful', 'garden', 'super', 'service', '5', 'star', 'standardperfect', 'stay', 'good', 'service', 'great', 'buffe', 'service', 'very', 'nice', 'garden', 'and', 'beach'], ['graet', 'place', 'and', 'nice', 'ppl', 'beach', 'garden', 'location'], ['luxury', 'hotel', 'nice', 'staff', 'comfortable', 'room', 'good', 'environment'], ['great', 'family', 'hotel', 'convenient', 'transportation', 'beautiful', 'pool', 'great', 'breakfastit', 'was', 'great', 'convenient', 'hotel', 'for', 'family', 'great', 'service', 'breakfast', 'pool', 'wifi', 'room', 'garden', 'privat', 'beach', 'however', 'it', 'is', 'family', 'friendly', 'hotel', 'there', 'were', 'a', 'lot', 'of', 'children'], ['comfortable', 'and', 'relax', 'hotel', 'with', 'swimming', 'pool', 'swimming', 'pool', 'good', 'landscape', 'relax'], ['good', 'location', 'there', 'is', 'free', 'shuttle', 'from', 'the', 'airport', 'it', 'takes', 'about', 'an', 'hour', 'nice', 'view', 'from', 'our', 'room', 'ocean', 'view', 'they', 'have', 'good', 'service', 'staff', 'has', 'good', 'english', 'it', 'takes', 'about', '3', 'minutes', 'to', 'check', 'in', 'inice', 'hotel', 'but', 'a', 'little', 'over', 'priced', 'especially', 'the', 'room', 'service', 'menu', 'breakfast', 'costs', 'about', '40'], ['excellent', 'stay', 'relaxing', 'atmosphere', 'superb', 'services', 'well', 'maintained', 'facilitiesour', 'stay', 'at', 'the', 'shilla', 'jeju', 'was', 'very', 'pleasant', 'this', 'hotel', 'is', 'worth', 'for', 'the', 'price', 'if', 'you', 'are', 'looking', 'for', 'posh', 'resort', 'type', 'of', 'accommodation', 'with', 'great', 'scenery', 'where', 'you', 'can', 'just', 'relax', 'and', 'enjoy', 'the', 'hotel', 'facilities', 'after', 'exploring', 'the', 'island'], ['luxury', 'resort', 'with', 'great', 'service', 'good', 'location', 'near', 'attractions', 'and', 'great', 'serviceeverything', 'was', 'great', 'it', 'was', 'delightful', 'stay', 'but', 'the', 'mountain', 'view', 'was', 'actually', 'like', 'car', 'park', 'view', 'so', 'we', 'had', 'to', 'upgrade', 'our', 'room', 'to', 'ocean', 'view', 'except', 'this', 'everything', 'was', 'good', 'as', 'thier', 'reputation', 'they', 'provided', 'cot', 'high', 'chair', 'and', 'so', 'on', 'for', 'my', 'baby', 'breakfast', 'was', 'good', 'there', 'were', 'various', 'selection', 'of', 'food', 'especially', 'bread', 'and', 'coffee', 'was', 'very', 'delicious', 'indoor', 'and', 'outdoor', 'pools', 'and', 'spa', 'were', 'exceptional'], ['great', 'hotel', 'in', 'beautiful', 'jeju', 'swimming', 'pool', 'beautiful', 'view', 'spacious', 'roomthe', 'shilla', 'jeju', 'is', 'a', 'beautiful', 'hotel', 'we', 'love', 'the', 'spacious', 'room', 'clean', 'bathroom', 'and', 'the', 'hotel', 'itself', 'is', 'very', 'gorgeous', 'the', 'heated', 'swimming', 'pool', 'is', 'awesome', 'and', 'service', 'is', 'good', 'the', 'restaurants', 'charged', 'very', 'high', 'price', 'so', 'we', 'ate', 'somewhere', 'else', 'the', 'beach', 'and', 'view', 'is', 'beautiful', 'we', 'definitely', 'recommend', 'this', 'hotel', 'in', 'jeju'], ['great', 'service', 'rooms', 'at', 'lotte', 'nicer', 'great', 'wi', 'fi', 'and', 'internet', 'service', 'overall', 'good', 'hotel', 'but', 'for', 'the', 'price', 'stay', 'at', 'lotte', 'right', 'down', 'the', 'street', 'if', 'available'], ['sprawling', 'garden', 'grounds', 'glamping', 'bbq', 'is', 'a', 'must', 'trybeautiful', 'manicured', 'gardens', 'probably', 'larger', 'than', 'the', 'hotel', 'itself', 'lovely', 'for', 'evening', 'walks', 'and', 'a', 'gorgeous', 'view', 'of', 'the', 'sea', 'from', 'the', 'edge', 'of', 'the', 'garden', 'the', 'swimming', 'pool', 'area', 'is', 'full', 'of', 'constant', 'activities', 'late', 'into', 'the', 'night', 'with', 'salsa', 'dances', 'and', 'suprano', 'singers', 'entertaining', 'guests', 'at', 'all', 'times', 'rooms', 'were', 'clean', 'and', 'spacious', 'embodies', 'rest', 'and', 'relax', 'definitely', 'does', 'not', 'feel', 'as', 'commercial', 'as', 'some', 'other', 'resorts', 'along', 'the', 'same', 'strip', 'pricey', 'but', 'definitely', 'the', 'best', 'resort', 'to', 'stay', 'in', 'jeju'], ['gorgeous', 'hotel', 'helpful', 'staff', 'easy', 'beach', 'access', 'heated', 'indoor', 'and', 'outdoor', 'pool', 'multiple', 'jacuzzi', 'modern', 'fitness', 'center', 'centrally', 'located', 'it', 'was', 'a', 'pleasure', 'to', 'stay', 'at', 'this', 'hotel', 'i', 'received', 'a', 'complimentary', 'upgrade', 'to', 'one', 'of', 'the', 'newer', 'rooms', 'in', 'the', 'new', 'addition', 'to', 'the', 'hotel', 'the', 'photographs', 'don', 't', 'exaggerate', 'when', 'you', 'walk', 'around', 'the', 'hotel', 'everything', 'really', 'is', 'that', 'beautiful', 'i', 'would', 'easily', 'stay', 'here', 'again', 'if', 'finding', 'my', 'way', 'through', 'jeju', 'island'], ['well', 'appointed', 'rooms', 'and', 'self', 'contained', 'resort', 'very', 'comfortable', 'room', 'and', 'beautiful', 'gardenthe', 'hotel', 'grounds', 'are', 'well', 'taken', 'care', 'of', 'we', 'enjoyed', 'our', 'stay', 'thoroughly', 'the', 'location', 'is', 'far', 'away', 'from', 'the', 'central', 'but', 'right', 'on', 'the', 'beach', 'it', 'is', 'very', 'relaxing', 'to', 'just', 'walk', 'around', 'the', 'garden', 'and', 'beach', 'we', 'were', 'happy', 'with', 'enjoying', 'the', 'hotel', 'facilities', 'the', 'grounds', 'are', 'inter', 'linked', 'to', 'lotte', 'hotel', 'which', 'is', 'great', 'as', 'it', 'offers', 'the', 'guests', 'more', 'choices', 'in', 'terms', 'of', 'venues', 'to', 'eat'], ['great', 'location', 'excellent', 'service', 'nice', 'and', 'spacious', 'room', 'the', 'swimming', 'pool', 'area', 'is', 'very', 'nice', 'outstanding', 'breakfast', 'service', 'the', 'selection', 'of', 'restaurants', 'at', 'the', 'hotel', 'is', 'somewhat', 'limited', 'but', 'there', 'are', 'plenty', 'of', 'other', 'restaurants', 'in', 'the', 'area'], ['lovely', 'hotel', 'with', 'beautiful', 'scenery', 'the', 'hotel', 'is', 'clean', 'and', 'bigcar', 'park', 'is', 'very', 'near', 'the', 'hotel', 'lobby', 'just', 'in', 'case', 'you', 'drive', 'location', 'of', 'the', 'hotel', 'is', 'also', 'very', 'near', 'to', 'a', 'lot', 'of', 'place', 'of', 'interest', 'i', 'like', 'the', 'hotel', 'because', 'it', 'is', 'big', 'and', 'clean', 'the', 'room', 'are', 'also', 'very', 'spacious'], ['lovely', 'room', 'with', 'great', 'service', 'hotel', 'room', 'is', 'great', 'people', 'are', 'very', 'friendly', 'to', 'kids', 'my', 'daughter', 'had', 'a', 'great', 'timewe', 'had', 'a', 'garden', 'view', 'deluxe', 'room', 'didn', 't', 'get', 'the', 'chance', 'to', 'stay', 'in', 'hello', 'kitty', 'one', 'generally', 'the', 'hotel', 'quality', 'is', 'quite', 'good', 'they', 'got', 'kids', 'club', 'which', 'keeps', 'my', 'daughter', 'entertained', 'all', 'the', 'time', 'i', 'didn', 't', 'enjoy', 'the', 'showering', 'in', 'our', 'bathroom', 'as', 'the', 'water', 'pressure', 'is', 'kind', 'of', 'off'], ['nice', 'hotel', 'but', 'a', 'bit', 'disappointed', 'amenitieswhen', 'we', 'first', 'arrived', 'we', 'had', 'the', 'wow', 'type', 'of', 'welcome', 'from', 'the', 'reception', 'but', 'as', 'we', 'move', 'to', 'our', 'rooms', 'we', 'were', 'a', 'bit', 'disappointed', 'didn', 't', 'had', 'the', 'wow', 'effect', 'when', 'we', 'first', 'walked', 'in', 'to', 'the', 'room', 'in', 'fact', 'it', 'looked', 'ordinary', 'and', 'very', 'wooden', 'definitely', 'not', 'worth', 'the', 'price', 'plus', 'the', 'fact', 'that', 'i', 'paid', 'about', 'per', 'night', 'with', 'no', 'breakfast', 'bed', 'was', 'hard', 'they', 'provided', 'enough', 'pillows', 'free', 'wifi', 'we', 'booked', 'this', 'hotel', 'thinking', 'of', 'renting', 'a', 'car', 'but', 'realised', 'that', 'need', 'international', 'license', 'to', 'rent', 'ended', 'up', 'we', 'did', 'not', 'rent', 'any', 'car', 'and', 'we', 'became', 'not', 'very', 'mobile'], ['nice', 'hotel', 'with', 'facilities', 'and', 'nice', 'view', 'many', 'facilities', 'such', 'as', 'game', 'room', 'kids', 'zone', 'and', 'camping', 'zonenice', 'place', 'for', 'family', 'inside', 'bedroom', 'has', '3', 'beds', 'and', 'not', 'far', 'from', 'jungmun', 'resort'], ['good', 'hotel', 'good', 'servicethe', 'hotel', 'is', 'good', 'location', 'is', 'good', 'service', 'is', 'good', 'but', 'the', 'room', 'is', 'abit', 'old', 'but', 'classic', 'the', 'hotel', 'is', 'big', 'and', 'the', 'stuff', 'is', 'quite', 'great', 'and', 'provide', 'us', 'the', 'great', 'location', 'room', 'the', 'bad', 'thing', 'is', 'no', 'breakfast', 'though', 'the', 'price', 'is', 'very', 'high'], ['service', 'was', 'fine', 'but', 'doesn', 't', 'worth', 'at', 'all', 'bed', 'is', 'comfortable', 'and', 'room', 'is', 'cleanwell', 'they', 'have', 'good', 'service', 'in', 'general', 'and', 'room', 'is', 'pretty', 'clean', 'i', 'love', 'the', 'little', 'gift', 'such', 'like', 'a', 'box', 'of', 'pencil', 'from', 'them', 'seems', 'pretty', 'warm', 'however', 'i', 'have', 'to', 'point', 'out', 'that', '1', 'room', 'service', 'sucks', 'house', 'keeping', 'opened', 'my', 'door', 'without', 'my', 'permission', 'for', 'two', 'times', 'to', 'check', 'if', 'i', 'm', 'in', 'the', 'room', 'thats', 'so', 'rude', 'i', 'know', 'i', 'should', 'check', 'out', 'on', 'time', 'but', 'is', 'just', 'not', 'polite', 'to', 'open', 'the', 'door', 'when', 'i', 'was', 'still', 'in', 'the', 'room', 'and', 'i', 'already', 'told', 'her', 'i', 'will', 'check', 'out', 'in', '5', 'mins', '2', 'hotel', 'is', 'too', 'far', 'away', 'from', 'the', 'city', 'center', '3', 'compare', 'with', 'other', 'hotels', 'this', 'hotel', 'absolutely', 'sucks', 'room', 'is', 'soo', 'small', 'and', 'no', 'english', 'channel', 'in', 'tv', 'no', 'hbo', 'i', 'was', 'really', 'disappointed', 'btw', 'mountain', 'view', 'sucks', 'don', 't', 'live', 'in', 'a', 'mountain', 'view', 'room', 'trust', 'me'], ['weekend', 'at', 'jeju', 'restaurants', 'pool', 'area', 'great', 'staff', 'very', 'efficientif', 'i', 'went', 'back', 'to', 'jeju', 'i', 'would', 'stay', 'at', 'the', 'shilla', 'again', 'great', 'hotel'], ['hotel', 'de', 'lujo', 'en', 'jeju', 'en', 'una', 'zona', 'espectacular', 'lujo', 'bellos', 'paisajes', 'bien', 'situado', 'al', 'sur', 'de', 'la', 'islael', 'hotel', 'es', 'uno', 'de', 'los', 'mejores', 'de', 'la', 'isla', 'situado', 'en', 'la', 'zona', 'sur', 'en', 'un', 'complejo', 'de', 'hoteles', 'con', 'todas', 'las', 'comodidades', 'solo', 'eche', 'en', 'falta', 'que', 'en', 'el', 'precio', 'de', 'la', 'habitaci', 'n', 'incluyeran', 'el', 'desayuno', 'aunque', 'no', 'hay', 'problema', 'para', 'salir', 'del', 'hotel', 'y', 'encontrar', 'cafeter', 'as', 'y', 'restaurantes', 'es', 'recomendable', 'llevar', 'coche', 'alquilado'], ['parfait', 'mais', 'vieillot', 'bel', 'tablissement', 'immense', 'service', 'impeccable', 'maintenance', 'parfaite', 'mais', 'prestations', 'hors', 'de', 'prix', 'et', 'besoin', 'de', 'r', 'novation', 'car', 'hold', 'fashion', 'le', 'petit', 'd', 'jeuner', '49', '000', 'krw', '330', 'hkd', '295', 'rmb', '38', 'eur', 'ou', '42', 'usd', 'ne', 'passe', 'pas', 'un', 'petit', 'd', 'jeuner', 'plus', 'cher', 'que', 'dans', 'le', 'plus', 'cher', 'des', 'four', 'seasons', 'me', 'semble', 'tout', 'simplement', 'tre', 'abusif', 'suffisamment', 'pour', 'm', 'avoir', 'enlever', 'l', 'envie', 'd', 'utiliser', 'les', 'prestations', 'de', 'l', 'h', 'tel', 'l', 'effet', 'marketing', 'l', 'envers', 'je', 'crois', 'que', 'c', 'est', 'la', 'premi', 're', 'fois', 'de', 'ma', 'vie', 'o', 'je', 'fuie', 'l', 'h', 'tel', 'o', 'je', 'r', 'side', 'pour', 'me', 'r', 'fugier', 'chez', 'starbusck', 'plut', 't', 'que', 'd', 'appr', 'cier', 'la', 'g', 'n', 'rosit', 'et', 'l', 'abondance', 'du', 'petit', 'd', 'jeuner', 'de', 'l', 'h', 'tel', 'domage', 'car', 'l', 'h', 'tel', 'est', 'parfaitement', 'g', 'r', 'le', 'personnel', 'tr', 's', 'professionnellent', 'form', 'un', 'point', 'sp', 'cial', 'l', 'exceptionnel', 'personnel', 'de', 'conciergerie', 'et', 'l', 'entretien', 'et', 'la', 'maintenance', 'd', 'un', 'rare', 'niveau', 'de', 'qualit', 'la', 'politique', 'de', 'prix', 'est', 'juste', 'd', 'un', 'autre', 'monde', 'et', 'jugement', 'de', 'professionnel', 'd', 'une', 'autre', 'cat', 'gorie', 'd', 'h', 'tel', 'shilla', 'est', 'un', 'resort', 'de', 'haut', 'de', 'gamme', 'mais', 't'], ['gut', 'ordentliches', '5', 'sterne', 'hotel'], ['geweldig', 'alles', 'was', 'perfect'], ['exceptional'], ['3', '2', '10900'], ['a', 'very', 'nice', 'resort', 'make', 'you', 'feel', 'great', 'once', 'you', 'arrived', 'the', 'front', 'door', 'no', 'need', 'to', 'stand', 'in', 'front', 'of', 'the', 'front', 'desk', 'for', 'check', 'in', 'instead', 'you', 'were', 'led', 'to', 'sit', 'comfortable', 'with', 'a', 'glass', 'of', 'orange', 'juice', 'during', 'the', 'process', 'of', 'checking', 'in'], ['the', 'hotel', 'rooms', 'update', 'is', 'way', 'over', 'due', 'the', 'shilla', 'hotel', 'was', 'my', 'favorite', 'place', 'to', 'stay', 'the', 'lobby', 'and', 'common', 'area', 'are', 'still', 'fabulous', 'and', 'staffs', 'are', 'friendly', 'and', 'restaurants', 'serve', 'good', 'food', 'however', 'rooms', 'are', 'outdated', 'and', 'carpets', 'are', 'dirty', 'and', 'walls', 'and', 'doors', 'are', 'old', 'and', 'not', 'upto', 'par', 'of', 'the', 'overall', 'hotel', 'image', 'the', 'rooms', 'smell', 'there', 'are', 'old', 'and', 'new', 'building', 'rooms', 'in', 'new', 'building', 'are', 'relatively', 'clean', 'and', 'nice', 'but', 'rooms', 'in', 'old', 'building', 'quite', 'different', 'i', 'had', 'to', 'ask', 'to', 'move', 'to', 'rooms', 'in', 'new', 'building', 'i', 'had', 'to', 'pay', '100', 'surcharge', 'per', 'night', 'per', 'room', 'since', 'i', 'had', 'two', 'rooms', 'for', '5', 'nights', 'i', 'had', 'to', 'pay', '1', '000', 'additionally', 'which', 'made', 'the', 'room', 'charge', '450', 'per', 'night', 'i', 'can', 'get', 'much', 'cleaner', 'rooms', 'at', 'fraction', 'of', 'the', 'cost', 'at', 'othe', 'hotels', 'i', 'always', 'stayed', 'at', 'shilla', 'whenever', 'i', 'come', 'to', 'korea', 'whether', 'it', 'be', 'jeju', 'or', 'seoul', 'but', 'this', 'will', 'be', 'my', 'last', 'time', 'until', 'shilla', 'updates', 'the', 'rooms', 'not', 'worth', 'the', 'money', 'for', '5', 'star', 'hotels', 'rooms', 'in', 'old', 'building', 'are', 'that', 'of', '3', 'star', 'hotels', 'old', 'building', 'still', 'makes', 'up', '70', 'of', 'the', 'entire', 'hotels'], ['hotel', 'with', 'great', 'children', 'facilities', 'this', 'hotel', 'is', 'a', 'resort', 'that', 'allows', 'us', 'to', 'visit', 'the', 'sites', 'in', 'jeju', 'while', 'coming', 'back', 'to', 'a', 'very', 'comfortable', 'environment', 'to', 'enjoy', 'our', 'family', 'vacation'], ['perfect', 'hotel', 'for', 'relaxing', 'the', 'hotel', 'offers', 'many', 'facilities', 'to', 'enjoy', 'our', 'life', 'and', 'it', 'was', 'very', 'relaxing'], ['would', 'definitely', 'go', 'there', 'again', 'one', 'of', 'my', 'favorite', 'hotels', 'in', 'korea', 'very', 'clean', 'luxurious', 'very', 'comfortable', 'stay']]\n"
          ]
        }
      ]
    }
  ]
}